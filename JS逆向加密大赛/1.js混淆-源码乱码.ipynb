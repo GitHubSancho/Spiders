{
 "cells": [
  {
   "cell_type": "code",
   "execution_count": 3,
   "id": "0a734dae-ec7c-4b11-ade9-69687179e698",
   "metadata": {},
   "outputs": [
    {
     "name": "stderr",
     "output_type": "stream",
     "text": [
      "Task was destroyed but it is pending!\n",
      "task: <Task pending name='Task-2' coro=<TqApi._notify_watcher() running at D:\\Tools\\anaconda3\\lib\\site-packages\\tqsdk\\api.py:3281> cb=[TqApi._on_task_done()]>\n",
      "Task was destroyed but it is pending!\n",
      "task: <Task pending name='Task-1' coro=<TqApi._windows_patch() running at D:\\Tools\\anaconda3\\lib\\site-packages\\tqsdk\\api.py:3276> cb=[TqApi._on_task_done()]>\n",
      "D:\\Tools\\anaconda3\\lib\\site-packages\\simplejson\\decoder.py:231: RuntimeWarning: coroutine 'TqApi._notify_watcher' was never awaited\n",
      "  pairs = dict(pairs)\n",
      "RuntimeWarning: Enable tracemalloc to get the object allocation traceback\n",
      "D:\\Tools\\anaconda3\\lib\\site-packages\\simplejson\\decoder.py:231: RuntimeWarning: coroutine 'TqApi._windows_patch' was never awaited\n",
      "  pairs = dict(pairs)\n",
      "RuntimeWarning: Enable tracemalloc to get the object allocation traceback\n"
     ]
    },
    {
     "ename": "Exception",
     "evalue": "TqSdk 使用了 python3 的原生协程和异步通讯库 asyncio，您所使用的 IDE 不支持 asyncio, 请使用 pycharm 或其它支持 asyncio 的 IDE",
     "output_type": "error",
     "traceback": [
      "\u001b[1;31m---------------------------------------------------------------------------\u001b[0m",
      "\u001b[1;31mException\u001b[0m                                 Traceback (most recent call last)",
      "\u001b[1;32mD:\\Tools\\anaconda3\\lib\\site-packages\\tqsdk\\api.py\u001b[0m in \u001b[0;36m__init__\u001b[1;34m(self, account, auth, url, backtest, web_gui, debug, loop, disable_print, _stock, _ins_url, _md_url, _td_url)\u001b[0m\n\u001b[0;32m    294\u001b[0m             \u001b[1;32mwhile\u001b[0m \u001b[0mself\u001b[0m\u001b[1;33m.\u001b[0m\u001b[0m_data\u001b[0m\u001b[1;33m.\u001b[0m\u001b[0mget\u001b[0m\u001b[1;33m(\u001b[0m\u001b[1;34m\"mdhis_more_data\"\u001b[0m\u001b[1;33m,\u001b[0m \u001b[1;32mTrue\u001b[0m\u001b[1;33m)\u001b[0m \u001b[1;32mor\u001b[0m \u001b[0mtrade_more_data\u001b[0m\u001b[1;33m:\u001b[0m\u001b[1;33m\u001b[0m\u001b[1;33m\u001b[0m\u001b[0m\n\u001b[1;32m--> 295\u001b[1;33m                 \u001b[1;32mif\u001b[0m \u001b[1;32mnot\u001b[0m \u001b[0mself\u001b[0m\u001b[1;33m.\u001b[0m\u001b[0mwait_update\u001b[0m\u001b[1;33m(\u001b[0m\u001b[0mdeadline\u001b[0m\u001b[1;33m=\u001b[0m\u001b[0mdeadline\u001b[0m\u001b[1;33m)\u001b[0m\u001b[1;33m:\u001b[0m  \u001b[1;31m# 等待连接成功并收取截面数据\u001b[0m\u001b[1;33m\u001b[0m\u001b[1;33m\u001b[0m\u001b[0m\n\u001b[0m\u001b[0;32m    296\u001b[0m                     \u001b[1;32mraise\u001b[0m \u001b[0mTqTimeoutError\u001b[0m\u001b[1;33m(\u001b[0m\u001b[1;34m\"接收数据超时，请检查客户端及网络是否正常\"\u001b[0m\u001b[1;33m)\u001b[0m\u001b[1;33m\u001b[0m\u001b[1;33m\u001b[0m\u001b[0m\n",
      "\u001b[1;32mD:\\Tools\\anaconda3\\lib\\site-packages\\tqsdk\\api.py\u001b[0m in \u001b[0;36mwait_update\u001b[1;34m(self, deadline)\u001b[0m\n\u001b[0;32m   1732\u001b[0m         \u001b[1;32melif\u001b[0m \u001b[0masyncio\u001b[0m\u001b[1;33m.\u001b[0m\u001b[0m_get_running_loop\u001b[0m\u001b[1;33m(\u001b[0m\u001b[1;33m)\u001b[0m\u001b[1;33m:\u001b[0m\u001b[1;33m\u001b[0m\u001b[1;33m\u001b[0m\u001b[0m\n\u001b[1;32m-> 1733\u001b[1;33m             raise Exception(\n\u001b[0m\u001b[0;32m   1734\u001b[0m                 \"TqSdk 使用了 python3 的原生协程和异步通讯库 asyncio，您所使用的 IDE 不支持 asyncio, 请使用 pycharm 或其它支持 asyncio 的 IDE\")\n",
      "\u001b[1;31mException\u001b[0m: TqSdk 使用了 python3 的原生协程和异步通讯库 asyncio，您所使用的 IDE 不支持 asyncio, 请使用 pycharm 或其它支持 asyncio 的 IDE",
      "\nDuring handling of the above exception, another exception occurred:\n",
      "\u001b[1;31mException\u001b[0m                                 Traceback (most recent call last)",
      "\u001b[1;32m<ipython-input-3-172871020085>\u001b[0m in \u001b[0;36m<module>\u001b[1;34m\u001b[0m\n\u001b[0;32m      4\u001b[0m \u001b[1;32mfrom\u001b[0m \u001b[0mtqsdk\u001b[0m\u001b[1;33m.\u001b[0m\u001b[0mtools\u001b[0m \u001b[1;32mimport\u001b[0m \u001b[0mDataDownloader\u001b[0m\u001b[1;33m\u001b[0m\u001b[1;33m\u001b[0m\u001b[0m\n\u001b[0;32m      5\u001b[0m \u001b[1;33m\u001b[0m\u001b[0m\n\u001b[1;32m----> 6\u001b[1;33m \u001b[0mapi\u001b[0m \u001b[1;33m=\u001b[0m \u001b[0mTqApi\u001b[0m\u001b[1;33m(\u001b[0m\u001b[0mauth\u001b[0m\u001b[1;33m=\u001b[0m\u001b[0mTqAuth\u001b[0m\u001b[1;33m(\u001b[0m\u001b[1;34m\"sancho\"\u001b[0m\u001b[1;33m,\u001b[0m \u001b[1;34m\"lxz1999\"\u001b[0m\u001b[1;33m)\u001b[0m\u001b[1;33m)\u001b[0m\u001b[1;33m\u001b[0m\u001b[1;33m\u001b[0m\u001b[0m\n\u001b[0m\u001b[0;32m      7\u001b[0m \u001b[0mdownload_tasks\u001b[0m \u001b[1;33m=\u001b[0m \u001b[1;33m{\u001b[0m\u001b[1;33m}\u001b[0m\u001b[1;33m\u001b[0m\u001b[1;33m\u001b[0m\u001b[0m\n\u001b[0;32m      8\u001b[0m \u001b[1;31m# # 下载从 2018-01-01 到 2018-09-01 的 SR901 日线数据\u001b[0m\u001b[1;33m\u001b[0m\u001b[1;33m\u001b[0m\u001b[1;33m\u001b[0m\u001b[0m\n",
      "\u001b[1;32mD:\\Tools\\anaconda3\\lib\\site-packages\\tqsdk\\api.py\u001b[0m in \u001b[0;36m__init__\u001b[1;34m(self, account, auth, url, backtest, web_gui, debug, loop, disable_print, _stock, _ins_url, _md_url, _td_url)\u001b[0m\n\u001b[0;32m    298\u001b[0m                 \u001b[0mtrade_more_data\u001b[0m \u001b[1;33m=\u001b[0m \u001b[0mself\u001b[0m\u001b[1;33m.\u001b[0m\u001b[0m_account\u001b[0m\u001b[1;33m.\u001b[0m\u001b[0m_get_trade_more_data_and_order_id\u001b[0m\u001b[1;33m(\u001b[0m\u001b[0mself\u001b[0m\u001b[1;33m,\u001b[0m \u001b[0mself\u001b[0m\u001b[1;33m.\u001b[0m\u001b[0m_data\u001b[0m\u001b[1;33m)\u001b[0m\u001b[1;33m\u001b[0m\u001b[1;33m\u001b[0m\u001b[0m\n\u001b[0;32m    299\u001b[0m         \u001b[1;32mexcept\u001b[0m\u001b[1;33m:\u001b[0m\u001b[1;33m\u001b[0m\u001b[1;33m\u001b[0m\u001b[0m\n\u001b[1;32m--> 300\u001b[1;33m             \u001b[0mself\u001b[0m\u001b[1;33m.\u001b[0m\u001b[0mclose\u001b[0m\u001b[1;33m(\u001b[0m\u001b[1;33m)\u001b[0m\u001b[1;33m\u001b[0m\u001b[1;33m\u001b[0m\u001b[0m\n\u001b[0m\u001b[0;32m    301\u001b[0m             \u001b[1;32mraise\u001b[0m\u001b[1;33m\u001b[0m\u001b[1;33m\u001b[0m\u001b[0m\n\u001b[0;32m    302\u001b[0m         \u001b[1;31m# 使用非空list,使得wait_update()能正确发送peek_message; 使用空dict, 使得is_changing()返回false, 因为截面数据不算做更新数据.\u001b[0m\u001b[1;33m\u001b[0m\u001b[1;33m\u001b[0m\u001b[1;33m\u001b[0m\u001b[0m\n",
      "\u001b[1;32mD:\\Tools\\anaconda3\\lib\\site-packages\\tqsdk\\api.py\u001b[0m in \u001b[0;36mclose\u001b[1;34m(self)\u001b[0m\n\u001b[0;32m    348\u001b[0m             \u001b[1;32mraise\u001b[0m \u001b[0mException\u001b[0m\u001b[1;33m(\u001b[0m\u001b[1;34m\"不能在协程中调用 close, 如需关闭 api 实例需在 wait_update 返回后再关闭\"\u001b[0m\u001b[1;33m)\u001b[0m\u001b[1;33m\u001b[0m\u001b[1;33m\u001b[0m\u001b[0m\n\u001b[0;32m    349\u001b[0m         \u001b[1;32melif\u001b[0m \u001b[0masyncio\u001b[0m\u001b[1;33m.\u001b[0m\u001b[0m_get_running_loop\u001b[0m\u001b[1;33m(\u001b[0m\u001b[1;33m)\u001b[0m\u001b[1;33m:\u001b[0m\u001b[1;33m\u001b[0m\u001b[1;33m\u001b[0m\u001b[0m\n\u001b[1;32m--> 350\u001b[1;33m             raise Exception(\n\u001b[0m\u001b[0;32m    351\u001b[0m                 \"TqSdk 使用了 python3 的原生协程和异步通讯库 asyncio，您所使用的 IDE 不支持 asyncio, 请使用 pycharm 或其它支持 asyncio 的 IDE\")\n\u001b[0;32m    352\u001b[0m \u001b[1;33m\u001b[0m\u001b[0m\n",
      "\u001b[1;31mException\u001b[0m: TqSdk 使用了 python3 的原生协程和异步通讯库 asyncio，您所使用的 IDE 不支持 asyncio, 请使用 pycharm 或其它支持 asyncio 的 IDE"
     ]
    }
   ],
   "source": [
    "from datetime import datetime, date\n",
    "from contextlib import closing\n",
    "from tqsdk import TqApi, TqAuth, TqSim\n",
    "from tqsdk.tools import DataDownloader\n",
    "\n",
    "api = TqApi(auth=TqAuth(\"sancho\", \"lxz1999\"))\n",
    "download_tasks = {}\n",
    "# # 下载从 2018-01-01 到 2018-09-01 的 SR901 日线数据\n",
    "# download_tasks[\"SR_daily\"] = DataDownloader(api, symbol_list=\"CZCE.SR901\", dur_sec=24*60*60,\n",
    "#                     start_dt=date(2018, 1, 1), end_dt=date(2018, 9, 1), csv_file_name=\"SR901_daily.csv\")\n",
    "# # 下载从 2018-01-01凌晨6点 到 2018-06-01下午4点 的 cu1805,cu1807,IC1803 分钟线数据，所有数据按 cu1805 的时间对齐\n",
    "# # 例如 cu1805 夜盘交易时段, IC1803 的各项数据为 N/A\n",
    "# # 例如 cu1805 13:00-13:30 不交易, 因此 IC1803 在 13:00-13:30 之间的K线数据会被跳过\n",
    "# download_tasks[\"cu_min\"] = DataDownloader(api, symbol_list=[\"SHFE.cu1805\", \"SHFE.cu1807\", \"CFFEX.IC1803\"], dur_sec=60,\n",
    "#                     start_dt=datetime(2018, 1, 1, 6, 0 ,0), end_dt=datetime(2018, 6, 1, 16, 0, 0), csv_file_name=\"cu_min.csv\")\n",
    "\n",
    "# 下载日期内 的 l主连 n分钟线数据\n",
    "download_tasks[\"l_5min\"] = DataDownloader(\n",
    "    api,\n",
    "    symbol_list=\"KQ.m@DCE.l\",\n",
    "    dur_sec=5 * 60,\n",
    "    start_dt=date(2021, 6, 1),\n",
    "    end_dt=date(2021, 7, 20),\n",
    "    csv_file_name=\"l_5min(20210601_20210720).csv\")\n",
    "\n",
    "# 下载日期内 的 l主连 盘口Tick数据\n",
    "# download_tasks[\"l_tick\"] = DataDownloader(\n",
    "#     api,\n",
    "#     symbol_list=[\"KQ.m@DCE.l\"],\n",
    "#     dur_sec=0,\n",
    "#     start_dt=datetime(2020, 1, 1),\n",
    "#     end_dt=datetime(2020, 12, 31),\n",
    "#     csv_file_name=\"l_tick_20200101_20201231.csv\")\n",
    "\n",
    "# 使用with closing机制确保下载完成后释放对应的资源\n",
    "with closing(api):\n",
    "    while not all([v.is_finished() for v in download_tasks.values()]):\n",
    "        api.wait_update()\n",
    "        print(\"progress: \", {\n",
    "            k: (\"%.2f%%\" % v.get_progress())\n",
    "            for k, v in download_tasks.items()\n",
    "        })\n"
   ]
  }
 ],
 "metadata": {
  "kernelspec": {
   "display_name": "Python 3",
   "language": "python",
   "name": "python3"
  },
  "language_info": {
   "codemirror_mode": {
    "name": "ipython",
    "version": 3
   },
   "file_extension": ".py",
   "mimetype": "text/x-python",
   "name": "python",
   "nbconvert_exporter": "python",
   "pygments_lexer": "ipython3",
   "version": "3.8.5"
  }
 },
 "nbformat": 4,
 "nbformat_minor": 5
}
